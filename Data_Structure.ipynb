{
  "nbformat": 4,
  "nbformat_minor": 0,
  "metadata": {
    "colab": {
      "provenance": []
    },
    "kernelspec": {
      "name": "python3",
      "display_name": "Python 3"
    },
    "language_info": {
      "name": "python"
    }
  },
  "cells": [
    {
      "cell_type": "markdown",
      "source": [],
      "metadata": {
        "id": "Oe6efGkBKHwF"
      }
    },
    {
      "cell_type": "markdown",
      "source": [],
      "metadata": {
        "id": "gsrohqSiJlS7"
      }
    },
    {
      "cell_type": "code",
      "execution_count": null,
      "metadata": {
        "id": "8FsQk4_AISbi"
      },
      "outputs": [],
      "source": [
        "String slicing in Python allows you to access specific parts of a string efficiently by specifying a start index, an end index (exclusive), and an optional step size.\n",
        "syntax:\n",
        "string[start:end:step]"
      ]
    },
    {
      "cell_type": "code",
      "source": [
        "s = \"Hello, World!\"\n",
        "print(s[1:5])"
      ],
      "metadata": {
        "colab": {
          "base_uri": "https://localhost:8080/"
        },
        "id": "smW7VgHKJyGn",
        "outputId": "7a03d15e-19c2-451b-922d-8f37741278c0"
      },
      "execution_count": 1,
      "outputs": [
        {
          "output_type": "stream",
          "name": "stdout",
          "text": [
            "ello\n"
          ]
        }
      ]
    },
    {
      "cell_type": "code",
      "source": [
        "print(s[::-1])"
      ],
      "metadata": {
        "colab": {
          "base_uri": "https://localhost:8080/"
        },
        "id": "treWBToBKBXO",
        "outputId": "f0a9ecd0-8d4f-4115-c4b9-1bb8dea3b89b"
      },
      "execution_count": 2,
      "outputs": [
        {
          "output_type": "stream",
          "name": "stdout",
          "text": [
            "!dlroW ,olleH\n"
          ]
        }
      ]
    },
    {
      "cell_type": "markdown",
      "source": [
        "# Explain the key features of lists in python?"
      ],
      "metadata": {
        "id": "sbKd_Gq1KJez"
      }
    },
    {
      "cell_type": "markdown",
      "source": [
        "list are one of the most versatile and commonly used Data Structure. Blow are the few features:\n",
        "1.Mutable:\n",
        "Lists are mutable, meaning their elements can be changed after the list is created. You can modify, add, or remove elements from a list.\n",
        "my_list = [1, 2, 3, 4]\n",
        "my_list[2] = 10  # Modifying an element\n",
        "print(my_list)  # Output: [1, 2, 10, 4]\n",
        "2.Ordered:\n",
        "Lists maintain the order of elements as they are inserted. This means you can access elements by their index, and the order of elements in the list will be preserved.\n",
        "my_list = ['a', 'b', 'c', 'd']\n",
        "print(my_list[0])  # Accessing the first element\n",
        "# Output: 'a'\n",
        "3.Dynamic:\n",
        "Lists in Python are dynamic in size, which means they can grow or shrink as needed. You can add or remove elements freely without having to specify the size beforehand.\n",
        "4.Iterable:\n",
        "Lists can be iterated over using loops or comprehensions. This makes it easy to access each element in the list sequentially.\n",
        "my_list = [1, 2, 3, 4]\n",
        "for item in my_list:\n",
        "    print(item)  # Output: 1, 2, 3, 4 (each on a new line)"
      ],
      "metadata": {
        "id": "d-x8axdWKUKP"
      }
    },
    {
      "cell_type": "markdown",
      "source": [
        "Describe how to access, modify and delete elements in List?"
      ],
      "metadata": {
        "id": "IzBrYM0KLXDn"
      }
    },
    {
      "cell_type": "markdown",
      "source": [
        "my_list = [1, 2, 3]\n",
        "my_list.append(4)  # Adding an element to the end\n",
        "print(my_list)  # Output: [1, 2, 3, 4]\n",
        "\n",
        "my_list.pop(1)  # Removing an element by index\n",
        "print(my_list)  # Output: [1, 3, 4]\n",
        "\n",
        "my_list = [3, 1, 4, 1, 5, 9, 2, 6, 5, 3]\n",
        "my_list.sort()  # Sorting the list\n",
        "print(my_list)  # Output: [1, 1, 2, 3, 3, 4, 5, 5, 6, 9]\n",
        "\n",
        "my_list.reverse()  # Reversing the list\n",
        "print(my_list)  # Output: [9, 6, 5, 5, 4, 3, 3, 2, 1, 1]"
      ],
      "metadata": {
        "id": "ccy2QO5HLkOJ"
      }
    },
    {
      "cell_type": "code",
      "source": [
        "Compare and Contrast tuples and lists with examples?"
      ],
      "metadata": {
        "id": "WHwhmoOXL3id"
      },
      "execution_count": null,
      "outputs": []
    },
    {
      "cell_type": "code",
      "source": [
        "# List example (mutable)\n",
        "my_list = [1, 2, 3]\n",
        "my_list[1] = 10  # Modify an element\n",
        "my_list.append(4)  # Add an element\n",
        "print(my_list)  # Output: [1, 10, 3, 4]\n",
        "\n",
        "# Tuple example (immutable)\n",
        "my_tuple = (1, 2, 3)\n",
        "my_tuple[1] = 10  # This will raise TypeError:"
      ],
      "metadata": {
        "id": "HsFsodYdMCqE"
      },
      "execution_count": null,
      "outputs": []
    },
    {
      "cell_type": "code",
      "source": [
        "Lists are enclosed in square brackets [ ], while tuples are enclosed in parentheses ( )\n",
        "my_list = [1, 2, 3]\n",
        "my_tuple = (1, 2, 3)"
      ],
      "metadata": {
        "id": "WTlwzWeYMexb"
      },
      "execution_count": null,
      "outputs": []
    },
    {
      "cell_type": "markdown",
      "source": [
        "Describe the key feature of Sets and their usage?"
      ],
      "metadata": {
        "id": "RnZofgWsNMAv"
      }
    },
    {
      "cell_type": "markdown",
      "source": [],
      "metadata": {
        "id": "RjX8Mp6VNUwq"
      }
    },
    {
      "cell_type": "markdown",
      "source": [
        "Sets in Python are unordered collections of unique elements. Unlike lists or tuples, which are ordered and may contain duplicate elements, sets do not maintain any specific order and automatically handle duplicates by ensuring that each element appears only once. Here are the key features and characteristics of sets in Python:\n",
        "\n",
        "Unordered Collection:\n",
        "\n",
        "Sets do not maintain any order among their elements. When iterating through a set or printing its contents, the order of elements may vary.\n",
        "Unique Elements:\n",
        "\n",
        "Sets automatically handle duplicate elements. If you try to add an element that is already in the set, it will not be added again.\n",
        "Mutable:\n",
        "\n",
        "Sets are mutable, meaning you can add or remove elements after the set is created.\n",
        "No Indexing:\n",
        "\n",
        "Sets do not support indexing. This is because they are unordered, and there is no guaranteed order of elements.\n",
        "Support for Mathematical Set Operations:\n",
        "\n",
        "Sets in Python support operations like union, intersection, difference, and symmetric difference, which are commonly used in mathematics and data analysis.\n",
        "Hashable Elements:\n",
        "\n",
        "Elements of a set must be hashable, meaning they must be immutable. This is because sets use hashing to ensure element uniqueness and efficient membership checking.\n",
        "\n",
        "Usage of Sets:\n",
        "Sets are useful in a variety of scenarios where you need to:\n",
        "\n",
        "Remove Duplicates: Quickly eliminate duplicate elements from a collection.\n",
        "\n",
        "Membership Testing: Check if an element exists in a collection efficiently.\n",
        "\n",
        "Mathematical Operations: Perform operations such as union, intersection, difference, and symmetric difference between sets.\n",
        "\n",
        "Filtering Unique Elements: Create a collection of unique items from another collection."
      ],
      "metadata": {
        "id": "jHewoYk8NdsZ"
      }
    },
    {
      "cell_type": "markdown",
      "source": [
        "Discuss the use case of tuples and sets in python programming?"
      ],
      "metadata": {
        "id": "Y1vpQGfINve7"
      }
    },
    {
      "cell_type": "markdown",
      "source": [],
      "metadata": {
        "id": "lYP0Ab6iNdOt"
      }
    },
    {
      "cell_type": "markdown",
      "source": [],
      "metadata": {
        "id": "usEtxkh3N4WN"
      }
    },
    {
      "cell_type": "markdown",
      "source": [
        "Tuples and sets are both fundamental data structures in Python, each with distinct characteristics that make them suitable for different use cases and programming scenarios.\n",
        "\n",
        "Use Cases of Tuples:\n",
        "Immutable Data:\n",
        "\n",
        "Tuples are often used to store data that should not be changed throughout the program's execution. For example, tuples can be used to store coordinates, configuration settings, or any data that is constant.\n",
        "python\n",
        "Copy code\n",
        "# Coordinates example\n",
        "point = (10, 20)\n",
        "\n",
        "# Configuration settings\n",
        "database_config = ('localhost', 'username', 'password', 'database_name')\n",
        "Returning Multiple Values:\n",
        "\n",
        "Tuples are useful for functions that need to return multiple values together as a single entity. This is cleaner than using global variables or creating custom objects.\n",
        "python\n",
        "Copy code\n",
        "def calculate_stats(data):\n",
        "    mean = sum(data) / len(data)\n",
        "    median = sorted(data)[len(data) // 2]\n",
        "    return mean, median\n",
        "\n",
        "data = [1, 2, 3, 4, 5]\n",
        "result = calculate_stats(data)\n",
        "mean, median = result\n",
        "Efficiency and Performance:\n",
        "\n",
        "Tuples can be more memory efficient and offer better performance than lists for certain operations, especially when dealing with fixed-size collections or when iteration and access speed are critical.\n",
        "Dictionary Keys:\n",
        "\n",
        "Tuples can be used as keys in dictionaries because they are hashable and immutable. This is useful when you need to create mappings where the key consists of multiple values.\n",
        "python\n",
        "Copy code\n",
        "location_map = {('New York', 40.7128, -74.0060): 'NYC', ('Los Angeles', 34.0522, -118.2437): 'LA'}\n",
        "Use Cases of Sets:\n",
        "Removing Duplicates:\n",
        "\n",
        "Sets are ideal for removing duplicate elements from a collection efficiently. By converting a list or another iterable to a set, duplicates are automatically eliminated.\n",
        "python\n",
        "Copy code\n",
        "data = [1, 2, 2, 3, 4, 4, 5]\n",
        "unique_elements = set(data)\n",
        "Membership Testing:\n",
        "\n",
        "Sets provide O(1) average-time complexity for membership testing. This makes them useful for checking whether an element exists in a collection without having to iterate through all elements.\n",
        "python\n",
        "Copy code\n",
        "vowels = {'a', 'e', 'i', 'o', 'u'}\n",
        "if 'e' in vowels:\n",
        "    print(\"Found 'e' in vowels\")\n",
        "Mathematical Set Operations:\n",
        "\n",
        "Sets support operations like union, intersection, difference, and symmetric difference, which are useful in various computational and data manipulation tasks.\n",
        "python\n",
        "Copy code\n",
        "set1 = {1, 2, 3, 4}\n",
        "set2 = {3, 4, 5, 6}\n",
        "\n",
        "# Union\n",
        "union_set = set1 | set2\n",
        "\n",
        "# Intersection\n",
        "intersection_set = set1 & set2\n",
        "\n",
        "# Difference\n",
        "difference_set = set1 - set2\n",
        "\n",
        "# Symmetric Difference\n",
        "symmetric_difference_set = set1 ^ set2\n",
        "Storing Unique Elements:\n",
        "\n",
        "When you need to maintain a collection of unique elements or perform operations that require uniqueness, sets provide a natural and efficient way to manage such data.\n",
        "Choosing Between Tuples and Sets:\n",
        "Use tuples when you have a fixed collection of elements that will not change, such as coordinates, configuration settings, or returning multiple values from a function.\n",
        "\n",
        "Use sets when you need to manage unique elements, perform fast membership tests, remove duplicates from a collection, or perform mathematical set operations."
      ],
      "metadata": {
        "id": "hswBdXOGOLOf"
      }
    },
    {
      "cell_type": "markdown",
      "source": [
        "Describe how to add, del and modify items in dictionary?"
      ],
      "metadata": {
        "id": "jvYOWO5IOVsN"
      }
    },
    {
      "cell_type": "markdown",
      "source": [
        "# Creating an empty dictionary\n",
        "my_dict = {}\n",
        "\n",
        "# Adding items using assignment\n",
        "my_dict['name'] = 'Alice'\n",
        "my_dict['age'] = 30\n",
        "my_dict['city'] = 'New York'\n",
        "\n",
        "print(my_dict)\n",
        "# Output: {'name': 'Alice', 'age': 30, 'city': 'New York'}\n",
        "\n",
        "my_dict = {'name': 'Bob', 'age': 25}\n",
        "\n",
        "# Adding multiple items using update()\n",
        "my_dict.update({'city': 'Los Angeles', 'country': 'USA'})\n",
        "\n",
        "print(my_dict)\n",
        "# Output: {'name': 'Bob', 'age': 25, 'city': 'Los Angeles', 'country': 'USA'}\n",
        "\n",
        "my_dict = {'name': 'Alice', 'age': 30, 'city': 'New York'}\n",
        "\n",
        "# Deleting an item using del keyword\n",
        "del my_dict['age']\n",
        "\n",
        "print(my_dict)\n",
        "# Output: {'name': 'Alice', 'city': 'New York'}\n",
        "\n",
        "my_dict = {'name': 'Alice', 'age': 30, 'city': 'New York'}\n",
        "\n",
        "# Modifying the value of an existing key\n",
        "my_dict['age'] = 31\n",
        "\n",
        "print(my_dict)\n",
        "# Output: {'name': 'Alice', 'age': 31, 'city': 'New York'}"
      ],
      "metadata": {
        "id": "gWM7X37gOjcu"
      }
    },
    {
      "cell_type": "markdown",
      "source": [
        "Discuss the importance of dictionary keys being immutable and provide examples?"
      ],
      "metadata": {
        "id": "5M65feJEOyPu"
      }
    },
    {
      "cell_type": "markdown",
      "source": [],
      "metadata": {
        "id": "uuq3yYRNO7Ql"
      }
    },
    {
      "cell_type": "markdown",
      "source": [
        "The immutability of dictionary keys in Python is an important characteristic that ensures the integrity and reliability of dictionaries as hash tables. Here’s why the immutability of dictionary keys is crucial, along with examples to illustrate its significance:\n",
        "\n",
        "Importance of Immutable Dictionary Keys:\n",
        "Hashing for Efficiency:\n",
        "\n",
        "Python dictionaries use a hash table implementation for efficient lookups. Immutable keys (like strings, numbers, or tuples containing immutable elements) allow dictionaries to compute and store hash values when the key is inserted. This hash value is used to quickly locate the key's corresponding value during lookups.\n",
        "Preservation of Hash Values:\n",
        "\n",
        "Immutable keys ensure that the hash value of a key remains constant throughout its lifetime in the dictionary. This consistency is critical because it allows Python to find the correct bucket in the hash table where the key-value pair is stored, ensuring fast access times.\n",
        "Avoiding Key Collisions:\n",
        "\n",
        "Immutable keys help prevent key collisions in hash tables. If mutable objects were used as keys and their state changed after insertion into the dictionary, their hash value might change as well. This could lead to the key being stored in the wrong bucket or being lost altogether, resulting in incorrect dictionary operations.\n",
        "Simplicity and Predictability:\n",
        "\n",
        "Immutable keys simplify the implementation and behavior of dictionaries. They provide a predictable way to interact with dictionary data without unexpected changes due to mutability.\n",
        "Examples of Immutable Dictionary Keys:\n",
        "Example 1: Using Strings as Keys\n",
        "python\n",
        "Copy code\n",
        "my_dict = {'name': 'Alice', 'age': 30, 'city': 'New York'}\n",
        "\n",
        "# Immutable string keys\n",
        "print(my_dict['name'])  # Accessing value using a string key\n",
        "Example 2: Using Numbers as Keys\n",
        "python\n",
        "Copy code\n",
        "age_dict = {25: 'Alice', 30: 'Bob', 22: 'Carol'}\n",
        "\n",
        "# Immutable integer keys\n",
        "print(age_dict[25])  # Accessing value using an integer key\n",
        "Example 3: Using Tuples as Keys\n",
        "python\n",
        "Copy code\n",
        "coordinates = {(10, 20): 'Location A', (30, 40): 'Location B'}\n",
        "\n",
        "# Immutable tuple keys\n",
        "print(coordinates[(10, 20)])  # Accessing value using a tuple key\n",
        "Example 4: Avoiding Mutable Types as Keys\n",
        "python\n",
        "Copy code\n",
        "# Example of a mutable list as a key (which is not allowed)\n",
        "# This will raise TypeError: unhashable type: 'list'\n",
        "invalid_dict = {[1, 2]: 'value'}\n",
        "In the last example, attempting to use a mutable list as a dictionary key raises a TypeError because lists are mutable and hence unhashable. Python dictionaries require keys to be hashable and immutable to maintain the integrity and efficiency of their hash table implementation.\n",
        "\n",
        "Summary:\n",
        "The immutability of dictionary keys in Python ensures efficient hash table operations, prevents key collisions, and maintains predictable behavior when interacting with dictionary data. By using immutable types as keys (such as strings, numbers, or tuples), you leverage Python's efficient hashing mechanism and ensure the reliability and performance of dictionary operations. This makes dictionaries a powerful tool for fast lookups and data management in Python programming.\n",
        "\n",
        "\n",
        "\n"
      ],
      "metadata": {
        "id": "X48T19vdPRmx"
      }
    },
    {
      "cell_type": "markdown",
      "source": [],
      "metadata": {
        "id": "gHHTW3cCOb8s"
      }
    }
  ]
}